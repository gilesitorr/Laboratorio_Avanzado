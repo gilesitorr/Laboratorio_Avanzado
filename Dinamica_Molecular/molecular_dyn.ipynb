{
 "cells": [
  {
   "cell_type": "markdown",
   "metadata": {},
   "source": [
    "## Librerías"
   ]
  },
  {
   "cell_type": "code",
   "execution_count": 171,
   "metadata": {},
   "outputs": [
    {
     "name": "stderr",
     "output_type": "stream",
     "text": [
      "\u001b[32m\u001b[1m    Updating\u001b[22m\u001b[39m registry at `C:\\Users\\giles\\.julia\\registries\\General.toml`\n",
      "\u001b[32m\u001b[1m   Resolving\u001b[22m\u001b[39m package versions...\n",
      "\u001b[32m\u001b[1m  No Changes\u001b[22m\u001b[39m to `C:\\Users\\giles\\.julia\\environments\\v1.7\\Project.toml`\n",
      "\u001b[32m\u001b[1m  No Changes\u001b[22m\u001b[39m to `C:\\Users\\giles\\.julia\\environments\\v1.7\\Manifest.toml`\n",
      "\u001b[32m\u001b[1m   Resolving\u001b[22m\u001b[39m package versions...\n",
      "\u001b[32m\u001b[1m  No Changes\u001b[22m\u001b[39m to `C:\\Users\\giles\\.julia\\environments\\v1.7\\Project.toml`\n",
      "\u001b[32m\u001b[1m  No Changes\u001b[22m\u001b[39m to `C:\\Users\\giles\\.julia\\environments\\v1.7\\Manifest.toml`\n",
      "\u001b[32m\u001b[1m   Resolving\u001b[22m\u001b[39m package versions...\n",
      "\u001b[32m\u001b[1m  No Changes\u001b[22m\u001b[39m to `C:\\Users\\giles\\.julia\\environments\\v1.7\\Project.toml`\n",
      "\u001b[32m\u001b[1m  No Changes\u001b[22m\u001b[39m to `C:\\Users\\giles\\.julia\\environments\\v1.7\\Manifest.toml`\n"
     ]
    }
   ],
   "source": [
    "using Pkg; Pkg.add(\"SciPy\"); Pkg.add(\"Distributions\"); Pkg.add(\"StatsBase\")"
   ]
  },
  {
   "cell_type": "code",
   "execution_count": 172,
   "metadata": {},
   "outputs": [],
   "source": [
    "using SciPy\n",
    "using Statistics\n",
    "using StatsBase\n",
    "using Random\n",
    "using LinearAlgebra"
   ]
  },
  {
   "cell_type": "markdown",
   "metadata": {},
   "source": [
    "## Funciones"
   ]
  },
  {
   "cell_type": "code",
   "execution_count": 173,
   "metadata": {},
   "outputs": [
    {
     "data": {
      "text/plain": [
       "transformar_coordenadas (generic function with 2 methods)"
      ]
     },
     "metadata": {},
     "output_type": "display_data"
    }
   ],
   "source": [
    "# Función para generar pares de ángulo polar y azimutal\n",
    "function generar_angulos()\n",
    "    theta = 2*pi*rand() # El ángulo polar\n",
    "    phi = pi*rand() # El ángulo azimutal\n",
    "    return theta, phi\n",
    "end\n",
    "\n",
    "# Transformación de coordenadas esféricas a cartesianas\n",
    "function transformar_coordenadas(theta::Float64, phi::Float64, r::Any)\n",
    "    x = r*sin(phi)*cos(theta)\n",
    "    y = r*sin(phi)*sin(theta)\n",
    "    z = r*cos(phi)\n",
    "    return x, y, z\n",
    "end\n"
   ]
  },
  {
   "cell_type": "code",
   "execution_count": 174,
   "metadata": {},
   "outputs": [
    {
     "data": {
      "text/plain": [
       "samplear (generic function with 2 methods)"
      ]
     },
     "metadata": {},
     "output_type": "display_data"
    }
   ],
   "source": [
    "# Se define una distribución de Maxwell 3D\n",
    "function maxwell_3d(x::Any, m::Any, kT::Any)\n",
    "    down = 2*kT\n",
    "    valor = 4*pi*((m/(pi*down))^1.5)*(x^2)*exp(-m*(x^2)/down)\n",
    "    return valor\n",
    "end\n",
    "\n",
    "# Dada una distribución, se obtienen puntos aleatorios\n",
    "function samplear(vector::Array, funcion::Function)\n",
    "    pesos = map(funcion, vector)\n",
    "    return sample(vector, Weights(pesos))\n",
    "end"
   ]
  },
  {
   "cell_type": "code",
   "execution_count": 194,
   "metadata": {},
   "outputs": [
    {
     "data": {
      "text/plain": [
       "wca (generic function with 2 methods)"
      ]
     },
     "metadata": {},
     "output_type": "display_data"
    }
   ],
   "source": [
    "# La magnitud de la fuerza de Lennard-Jones\n",
    "function lennard_jones(r::Any, sigma::Any, epsilon=1.0)::Float64\n",
    "    fraccion = (sigma/r)^6.0\n",
    "    return 24.0*epsilon*fraccion*(2.0*fraccion-1.0)/r\n",
    "end\n",
    "\n",
    "# La magnitud de la fuerza basada en el potencial WCA\n",
    "function wca(r, sigma, epsilon=1.0)::Float64\n",
    "    if r<=(2.0^(1/6))*sigma\n",
    "        return lennard_jones(r, sigma, epsilon)\n",
    "    end\n",
    "    return 0.0\n",
    "end"
   ]
  },
  {
   "cell_type": "code",
   "execution_count": 176,
   "metadata": {},
   "outputs": [
    {
     "data": {
      "text/plain": [
       "generar_velocidades (generic function with 1 method)"
      ]
     },
     "metadata": {},
     "output_type": "display_data"
    }
   ],
   "source": [
    "# Genera las posiciones de las partículas sin solaparse\n",
    "function generar_posiciones(n_particulas::Int64, tamanio::Any,\n",
    "    distribucion_r::Function, distribucion_m::Function, distribucion_sigma::Function)\n",
    "    masas = []\n",
    "    sigmas = []\n",
    "    posiciones = []\n",
    "\n",
    "    i, intentos = 0, 0\n",
    "    while i<n_particulas\n",
    "        intentos += 1\n",
    "\n",
    "        sigma_prueba = distribucion_sigma(0)\n",
    "\n",
    "        theta, phi = generar_angulos()\n",
    "        magnitud = tamanio*distribucion_r(0)\n",
    "        r_prueba = mod.(transformar_coordenadas(theta, phi, magnitud), tamanio)\n",
    "\n",
    "        coincide = true\n",
    "        for j in Array(1:length(posiciones))\n",
    "            distancia = norm(r_prueba.-posiciones[j])\n",
    "            if distancia < sigma_prueba+sigmas[j]\n",
    "                coincide = false\n",
    "                break\n",
    "            end\n",
    "        end\n",
    "\n",
    "        if coincide\n",
    "            i += 1\n",
    "            push!(posiciones, r_prueba)\n",
    "            append!(sigmas, sigma_prueba)\n",
    "            append!(masas, distribucion_m(0))\n",
    "        end\n",
    "\n",
    "        if intentos>n_particulas^3\n",
    "            i = 0\n",
    "            intentos = 0\n",
    "            masas = []\n",
    "            posiciones = []\n",
    "            sigmas = []\n",
    "        end\n",
    "    end\n",
    "    \n",
    "    return sigmas, posiciones, masas\n",
    "end\n",
    "\n",
    "# Genera las velocidades de las partículas\n",
    "function generar_velocidades(n_particulas::Int64, m::Any, kT::Any, distribucion_v::Function)\n",
    "    velocidades = []\n",
    "    for i in Array(1:n_particulas)\n",
    "        theta, phi = generar_angulos()\n",
    "        magnitud = distribucion_v(m, kT)\n",
    "        push!(velocidades, transformar_coordenadas(theta, phi, magnitud))\n",
    "    end\n",
    "    return velocidades\n",
    "end"
   ]
  },
  {
   "cell_type": "code",
   "execution_count": 202,
   "metadata": {},
   "outputs": [
    {
     "data": {
      "text/plain": [
       "avanzar_simulacion (generic function with 15 methods)"
      ]
     },
     "metadata": {},
     "output_type": "display_data"
    }
   ],
   "source": [
    "# Generar la simulación\n",
    "function iniciar_simulacion(n_particulas=1000, tamanio=1, T=1, k=1,\n",
    "                            distribucion_r = x::Int64 -> begin rand() end,\n",
    "                            distribucion_v = (m::Any, kT::Any) -> begin\n",
    "                                                                        samplear(Array(1:10e3)./10e3, \n",
    "                                                                        y::Any -> begin maxwell_3d(y, m, kT) end)\n",
    "                                                                    end,\n",
    "                            distribucion_m = x::Int64 -> begin 1.0 end,\n",
    "                            distribucion_sigma = x::Int64 -> begin 0.0001 end)\n",
    "\n",
    "    # Primero se valida si es posible meter tantas esferas en una caja\n",
    "    mean_sigma = mean([distribucion_sigma(0) for i in Array(1:100)]) # El diámetro promedio\n",
    "    densidad_empaquetamiento_max = pi/(3*sqrt(2))\n",
    "\n",
    "    volumen_esferas = n_particulas*(pi/3)*(mean_sigma^3/2)\n",
    "    volumen_maximo =  densidad_empaquetamiento_max*(tamanio^3)\n",
    "\n",
    "    if volumen_esferas<volumen_maximo\n",
    "\n",
    "        sigmas, posiciones, masas = generar_posiciones(n_particulas, tamanio,\n",
    "                                                       distribucion_r, distribucion_m,\n",
    "                                                       distribucion_sigma)\n",
    "\n",
    "        mean_m = mean(masas)\n",
    "\n",
    "        velocidades = generar_velocidades(n_particulas, mean_m, k*T, distribucion_v)\n",
    "\n",
    "        simulacion = [[posiciones[i][1], posiciones[i][2], posiciones[i][3],\n",
    "                       velocidades[i][1], velocidades[i][2], velocidades[i][3],\n",
    "                       0.0, 0.0, 0.0, masas[i], sigmas[i]] for i in Array(1:n_particulas)]\n",
    "                       \n",
    "        return simulacion\n",
    "    else\n",
    "        println(\"No es posible meter tantas esferas en una caja de ese tamaño\")\n",
    "        return []\n",
    "    end\n",
    "end\n",
    "\n",
    "\n",
    "# Avanza la simulación dada una fuerza interna\n",
    "function avanzar_simulacion(simulacion::Vector{Vector{Float64}}, tamanio=1, dt::Float64=0.00001,\n",
    "                            fuerza_interna = (r::Any, sigma::Any) -> begin float(lennard_jones(r, sigma, 1.0)) end)\n",
    "\n",
    "    n_particulas = length(simulacion)\n",
    "\n",
    "    if n_particulas>0\n",
    "        indices = Array(1:n_particulas)\n",
    "        aceleraciones = [[0.0, 0.0, 0.0] for i in indices]\n",
    "\n",
    "        for i in Array(1:(n_particulas-1))\n",
    "            for j in Array((i+1):n_particulas)\n",
    "                r_i = simulacion[i][1:3]\n",
    "                r_j = simulacion[j][1:3]\n",
    "                \n",
    "                r_hat = r_j-r_i\n",
    "                distancia = norm(r_hat)\n",
    "                r_hat = r_hat/distancia\n",
    "\n",
    "                sigma = (simulacion[i][11]+simulacion[j][11])/2\n",
    "                fuerza_resultante = fuerza_interna(distancia, sigma).*r_hat\n",
    "\n",
    "                aceleraciones[i] = aceleraciones[i] + (fuerza_resultante./simulacion[i][10])\n",
    "                aceleraciones[j] = aceleraciones[j] - (fuerza_resultante./simulacion[j][10])\n",
    "            end\n",
    "        end\n",
    "\n",
    "        simulacion_avanzada = simulacion[:]\n",
    "\n",
    "        for i in indices\n",
    "            r_i = simulacion[i][1:3]\n",
    "            v_i = simulacion[i][4:6]\n",
    "            a_i0 = simulacion[i][7:9]\n",
    "            a_i1 = aceleraciones[i][:]\n",
    "      \n",
    "            simulacion_avanzada[i][1:3] = mod.(r_i + (dt.*v_i) + ((dt^2/2).*a_i0), tamanio)\n",
    "            simulacion_avanzada[i][4:6] = v_i + ((dt/2).*(a_i0+a_i1))\n",
    "            simulacion_avanzada[i][7:9] = a_i1\n",
    "        end\n",
    "\n",
    "        return simulacion_avanzada\n",
    "    else\n",
    "        println(\"No hay partículas en la simulación\")\n",
    "        return []\n",
    "    end\n",
    "end"
   ]
  },
  {
   "cell_type": "markdown",
   "metadata": {},
   "source": [
    "# Pruebas"
   ]
  },
  {
   "cell_type": "code",
   "execution_count": 178,
   "metadata": {},
   "outputs": [
    {
     "data": {
      "text/plain": [
       "1000-element Vector{Vector{Float64}}:\n",
       " [0.7832446378203192, 0.7146686070386594, 0.7435660414622356, -0.09644684196292642, -0.24847121102457914, -0.03850394742565163, 0.0, 0.0, 0.0, 1.0, 0.0001]\n",
       " [0.04196688354603019, 0.2977025844047574, 0.0866491355564382, -0.08581300403908533, 0.05131062473093512, -0.8237544464993856, 0.0, 0.0, 0.0, 1.0, 0.0001]\n",
       " [0.8996404725475292, 0.1751006058932, 0.12375400058583202, 0.16316216156165206, -0.28805308887816194, -0.6663995325795773, 0.0, 0.0, 0.0, 1.0, 0.0001]\n",
       " [0.04041651454675021, 0.9220375093892412, 0.09477501429172984, 0.014053463769869792, 0.039908796305675676, 0.6840927920490765, 0.0, 0.0, 0.0, 1.0, 0.0001]\n",
       " [0.020405993612331114, 0.1682469526888134, 0.044126447272445676, 0.04398856003329881, 0.08593326341903086, -0.5481642462112539, 0.0, 0.0, 0.0, 1.0, 0.0001]\n",
       " [0.8812516649405294, 0.007226923557602442, 0.1675418145479559, -0.42128537082839823, -0.35103862021220766, -0.06660543105099234, 0.0, 0.0, 0.0, 1.0, 0.0001]\n",
       " [0.2251784303832478, 0.8708806739500217, 0.9721247900228451, -0.1402462801987452, -0.7313253193860368, -0.2614017943995915, 0.0, 0.0, 0.0, 1.0, 0.0001]\n",
       " [0.24676006569150466, 0.20818711212231272, 0.8761881926904642, 0.5100686761345788, -0.6405898563893571, 0.2618371087477501, 0.0, 0.0, 0.0, 1.0, 0.0001]\n",
       " [0.872091598681745, 0.9728253575787611, 0.03762883484699865, 0.3034831968275881, 0.5918074826731307, -0.1844936115300463, 0.0, 0.0, 0.0, 1.0, 0.0001]\n",
       " [0.8200949904125455, 0.07330992076575721, 0.839086228446767, 0.29222473831814355, 0.1258282752566028, 0.10063616378241533, 0.0, 0.0, 0.0, 1.0, 0.0001]\n",
       " ⋮\n",
       " [0.2662701656589076, 0.13594721907527757, 0.042315975796493634, -0.6462416610759099, -0.32276772393232717, -0.16106123642079084, 0.0, 0.0, 0.0, 1.0, 0.0001]\n",
       " [0.22554043623625175, 0.0632409483850505, 0.8610199003377482, 0.06049494096187427, -0.3056483843359252, 0.9346327980928434, 0.0, 0.0, 0.0, 1.0, 0.0001]\n",
       " [0.8638191992014238, 0.20051155389113223, 0.05166267880070763, -0.7514782242893305, 0.591858901264569, -0.09428127816725716, 0.0, 0.0, 0.0, 1.0, 0.0001]\n",
       " [0.005005785663960812, 0.009640311074576819, 0.884899807438961, -0.019280497212356754, -0.06502041646647168, -0.9385529329077666, 0.0, 0.0, 0.0, 1.0, 0.0001]\n",
       " [0.48279346971313153, 0.7430355117913433, 0.3715427769961803, -0.22253180277881496, 0.5804231764467581, 0.4922183895340219, 0.0, 0.0, 0.0, 1.0, 0.0001]\n",
       " [0.9991683603060577, 0.9986092039247824, 0.6988339119578812, 0.6549597317302139, -0.03305468437938118, -0.44067351594175225, 0.0, 0.0, 0.0, 1.0, 0.0001]\n",
       " [0.015708767354169283, 0.9845638487527065, 0.7892288344873822, -0.43731719015429427, -0.3083198441247945, 0.23646891743824439, 0.0, 0.0, 0.0, 1.0, 0.0001]\n",
       " [0.8350652900529271, 0.9510216207646357, 0.8769359945293784, 0.5533579100214592, 0.314721532795263, -0.6040919964804062, 0.0, 0.0, 0.0, 1.0, 0.0001]\n",
       " [0.11778090072244415, 0.8604658135977579, 0.9252071189578792, -0.32061675574392107, -0.8094237929693715, -0.3113248774372501, 0.0, 0.0, 0.0, 1.0, 0.0001]"
      ]
     },
     "metadata": {},
     "output_type": "display_data"
    }
   ],
   "source": [
    "sim = iniciar_simulacion()"
   ]
  },
  {
   "cell_type": "code",
   "execution_count": 203,
   "metadata": {},
   "outputs": [
    {
     "data": {
      "text/plain": [
       "1000-element Vector{Vector{Float64}}:\n",
       " [0.7832427088834798, 0.7146636376144389, 0.743565271383287, -0.09644684196292642, -0.24847121102457914, -0.03850394742565163, 5.1987223853624e-15, -4.2515583102158136e-14, -1.2128630247304858e-14, 1.0, 0.0001]\n",
       " [0.041965167285949415, 0.29770361061725203, 0.08663266046750821, -0.08581300403908533, 0.05131062473093512, -0.8237544464993856, 5.971018544443548e-15, -4.100134538761995e-15, 4.7576182700186216e-15, 1.0, 0.0001]\n",
       " [0.8996437357907604, 0.17509484483142243, 0.12374067259518043, 0.16316216156165206, -0.28805308887816194, -0.6663995325795773, 2.161859541842376e-14, -3.632554661126566e-14, 8.234737087963193e-16, 1.0, 0.0001]\n",
       " [0.040416795616025604, 0.9220383075651672, 0.09478869614757081, 0.014053463769869792, 0.039908796305675676, 0.6840927920490765, -5.2790237054302704e-15, -2.198744199194307e-14, 4.9194367951890326e-14, 1.0, 0.0001]\n",
       " [0.02040687338353178, 0.16824867135408178, 0.04411548398752145, 0.04398856003329881, 0.08593326341903086, -0.5481642462112539, -5.055044534788307e-17, 2.3977242851732957e-16, -7.499347362383657e-17, 1.0, 0.0001]\n",
       " [0.8812432392331128, 0.0072199027851981975, 0.16754048243933486, -0.42128537082840045, -0.35103862021220833, -0.0666054310509929, -1.4789199043706891e-10, -4.644186097383056e-11, -3.7325726814294874e-11, 1.0, 0.0001]\n",
       " [0.22517562545764386, 0.870866047443634, 0.9721195619869571, -0.1402462801987452, -0.7313253193860368, -0.2614017943995915, 1.0077383221077586e-15, -2.1177251904783197e-16, 3.2315063258754154e-16, 1.0, 0.0001]\n",
       " [0.24677026706502736, 0.2081743003251849, 0.8761934294326392, 0.5100686761345788, -0.6405898563893571, 0.2618371087477501, -3.1931160798928408e-15, 4.09229148432348e-15, -6.3466735905916256e-15, 1.0, 0.0001]\n",
       " [0.8720976683456816, 0.9728371937284146, 0.03762514497476806, 0.3034831968275881, 0.5918074826731307, -0.1844936115300463, 7.500687065597683e-14, -8.200398380082273e-14, -5.873396464754109e-14, 1.0, 0.0001]\n",
       " [0.8201008349073119, 0.07331243733126233, 0.8390882411700425, 0.29222473831814355, 0.1258282752566028, 0.10063616378241533, -3.976129493196937e-15, -1.929968922948131e-16, -2.2182547732058953e-15, 1.0, 0.0001]\n",
       " ⋮\n",
       " [0.266257240825686, 0.13594076372079894, 0.04231275457176522, -0.6462416610759099, -0.32276772393232717, -0.16106123642079084, -1.9518261904469744e-13, 1.1576810630080947e-13, 9.360248822017087e-15, 1.0, 0.0001]\n",
       " [0.225541646135071, 0.06323483541736379, 0.86103859299371, 0.06049494096187427, -0.3056483843359252, 0.9346327980928434, -6.5223949813058225e-15, -1.1379722204927782e-13, -9.543531629510256e-14, 1.0, 0.0001]\n",
       " [0.863804169636938, 0.2005233910691575, 0.051660793175144284, -0.7514782242893305, 0.591858901264569, -0.09428127816725716, -7.887908466468265e-16, -9.964043705005103e-17, -2.7224286198320407e-15, 1.0, 0.0001]\n",
       " [0.005005400054016566, 0.009639010666247491, 0.8848810363803029, -0.019280497212356883, -0.06502041646647172, -0.9385529329077668, -8.495332687214442e-12, -2.2931707435759337e-12, -8.044133308369391e-12, 1.0, 0.0001]\n",
       " [0.48278901907707594, 0.7430471202548722, 0.37155262136397105, -0.22253180277881496, 0.5804231764467581, 0.4922183895340219, -2.0905558715739106e-15, -6.123645172725947e-16, 4.968207869885436e-16, 1.0, 0.0001]\n",
       " [0.9991814595006923, 0.9986085428310948, 0.6988250984875624, 0.6549597317302139, -0.03305468437938118, -0.44067351594175225, 2.2801237286026187e-14, 2.6119745306294216e-14, 2.5602255402393972e-14, 1.0, 0.0001]\n",
       " [0.015700021010366196, 0.9845576823558241, 0.789233563865731, -0.43731719015429427, -0.3083198441247945, 0.23646891743824436, 1.861174950867346e-12, -1.765504025952061e-13, -1.890264052542609e-12, 1.0, 0.0001]\n",
       " [0.8350763572111276, 0.9510279151952915, 0.8769239126894488, 0.5533579100214592, 0.314721532795263, -0.6040919964804062, -7.239168009692874e-15, 7.922447044236537e-15, -1.4704005243209523e-14, 1.0, 0.0001]\n",
       " [0.11777448838732926, 0.8604496251218985, 0.9252008924603305, -0.32061675574392107, -0.8094237929693715, -0.3113248774372501, -2.493127041789584e-12, 7.19671529055814e-13, -2.228832845728599e-12, 1.0, 0.0001]"
      ]
     },
     "metadata": {},
     "output_type": "display_data"
    }
   ],
   "source": [
    "avanzar_simulacion(sim)"
   ]
  }
 ],
 "metadata": {
  "interpreter": {
   "hash": "b119d47d26298f85a105347483cbcf63b4501a83cd874adbf4cff0fb1ab3b449"
  },
  "kernelspec": {
   "display_name": "Julia 1.7.2",
   "language": "julia",
   "name": "julia-1.7"
  },
  "language_info": {
   "file_extension": ".jl",
   "mimetype": "application/julia",
   "name": "julia",
   "version": "1.7.2"
  },
  "orig_nbformat": 4
 },
 "nbformat": 4,
 "nbformat_minor": 2
}
